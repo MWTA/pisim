{
 "cells": [
  {
   "cell_type": "markdown",
   "metadata": {},
   "source": [
    "# Estimate Pi interactively!\n",
    "\n",
    "Below you'll see a few widget windows, these run a simulation that estimates the value of \"Pi\" based on the number of random points that fall within vs. outside of a circle. Try playing around with the number of total samples to see how the estimate stabilizes over time!"
   ]
  },
  {
   "cell_type": "code",
   "execution_count": 1,
   "metadata": {},
   "outputs": [],
   "source": [
    "from bqplot import pyplot as plt\n",
    "import numpy as np\n",
    "from IPython.display import display\n",
    "from ipywidgets.widgets import IntSlider, HBox, Button\n",
    "%matplotlib inline"
   ]
  },
  {
   "cell_type": "code",
   "execution_count": 14,
   "metadata": {},
   "outputs": [],
   "source": [
    "def circ(x, radius=2):\n",
    "    y = np.sqrt(np.clip(radius**2 - x**2, .001, None))\n",
    "    return y\n",
    "\n",
    "def calculate_ratios(samples):\n",
    "\n",
    "    samples_y_curve = circ(samples[:, 0])\n",
    "    inside_dots = samples_y_curve > samples[:, 1]\n",
    "\n",
    "    ratios = []\n",
    "    for n_plt in range(N_SAMPLES):\n",
    "        if n_plt == 0:\n",
    "            ratios.append(0)\n",
    "            continue\n",
    "        ratios.append(4 * (sum(inside_dots[:n_plt]) / len(inside_dots[:n_plt])))\n",
    "\n",
    "    return samples_y_curve, inside_dots, ratios\n",
    "\n",
    "def _update_plot(change=None):\n",
    "    n_plt = slider.value\n",
    "    plt_samples = plot_data['data'][:n_plt]\n",
    "    inside_dots = plot_data['inside']\n",
    "    ratios = plot_data['ratios']\n",
    "\n",
    "    colors = np.where(inside_dots[:n_plt], '#41f465', \"#f44b42\").tolist()\n",
    "    scat.x = plt_samples[:, 0]\n",
    "    scat.y = plt_samples[:, 1]\n",
    "    scat.colors = colors\n",
    "    fig.title = 'Ratio of in-to-out dots: {}'.format(ratios[n_plt])\n",
    "    \n",
    "    fig_line.x = range(n_plt)\n",
    "    line.y = ratios[:n_plt]\n",
    "    line.x = range(n_plt)\n",
    "    \n",
    "def _reset_data(change=None):\n",
    "    samples = np.random.random(N_SAMPLES * 2) * 2\n",
    "    samples = samples.reshape([-1, 2])\n",
    "    \n",
    "    samples_y_curve, inside_dots, ratios = calculate_ratios(samples)\n",
    "    \n",
    "    plot_data['data'] = samples\n",
    "    plot_data['inside'] = inside_dots\n",
    "    plot_data['ratios'] = ratios\n",
    "    _update_plot()"
   ]
  },
  {
   "cell_type": "code",
   "execution_count": 15,
   "metadata": {},
   "outputs": [],
   "source": [
    "N_SAMPLES = 1000\n",
    "samples = np.random.random(N_SAMPLES * 2) * 2\n",
    "samples = samples.reshape([-1, 2])\n",
    "samples_y_curve, inside_dots, ratios = calculate_ratios(samples)"
   ]
  },
  {
   "cell_type": "code",
   "execution_count": 16,
   "metadata": {},
   "outputs": [],
   "source": [
    "width = '350px'"
   ]
  },
  {
   "cell_type": "code",
   "execution_count": 17,
   "metadata": {
    "scrolled": false
   },
   "outputs": [],
   "source": [
    "plot_data = {'data': samples, 'ratios': ratios, 'inside': inside_dots}\n",
    "\n",
    "# Draw the circle\n",
    "fig = plt.figure()\n",
    "x = np.linspace(0, 5, 1000)\n",
    "y = circ(x)\n",
    "half_circle = plt.plot(x=x, y=y, s=[100] * len(y))\n",
    "scat = plt.scatter(samples[:10, 0], samples[:10, 1], options={'s': 1})\n",
    "plt.xlim(0, 2)\n",
    "fig.layout.height = width\n",
    "fig.layout.width = width\n",
    "\n",
    "# Figure with PI estimation\n",
    "fig_line = plt.figure()\n",
    "fig_line.layout.height = width\n",
    "fig_line.layout.width = width\n",
    "fig_line.title = \"Estimation of Pi\"\n",
    "line = plt.plot(range(10), ratios[:10])\n",
    "line2 = plt.hline(np.pi, ls='--', c='k')\n",
    "plt.xlim(0, N_SAMPLES)\n",
    "plt.ylim(2, 4)\n",
    "\n",
    "# Slider to control number of samples\n",
    "slider = IntSlider(value=20, min=10, max=N_SAMPLES-1, description=\"$N_{samples}$\")\n",
    "slider.observe(_update_plot)\n",
    "\n",
    "# Button to reset the data\n",
    "button = Button(description=\"Reset data\")\n",
    "button.on_click(_reset_data)"
   ]
  },
  {
   "cell_type": "code",
   "execution_count": 18,
   "metadata": {
    "scrolled": false
   },
   "outputs": [
    {
     "data": {
      "application/vnd.jupyter.widget-view+json": {
       "model_id": "5d8da083d8be46f7b7432c056c848fab",
       "version_major": 2,
       "version_minor": 0
      },
      "text/plain": [
       "HBox(children=(Figure(axes=[Axis(scale=LinearScale(max=2.0, min=0.0)), Axis(orientation='vertical', scale=Line…"
      ]
     },
     "metadata": {},
     "output_type": "display_data"
    },
    {
     "data": {
      "application/vnd.jupyter.widget-view+json": {
       "model_id": "821a01423353429cb589abac9728087c",
       "version_major": 2,
       "version_minor": 0
      },
      "text/plain": [
       "HBox(children=(IntSlider(value=20, description='$N_{samples}$', max=999, min=10), Button(description='Reset da…"
      ]
     },
     "metadata": {},
     "output_type": "display_data"
    }
   ],
   "source": [
    "# Initialize our UI\n",
    "plt.clear()\n",
    "_update_plot()\n",
    "box = HBox([fig, fig_line])\n",
    "box2 = HBox([slider, button])\n",
    "display(box, box2)"
   ]
  },
  {
   "cell_type": "code",
   "execution_count": null,
   "metadata": {},
   "outputs": [],
   "source": []
  }
 ],
 "metadata": {
  "kernelspec": {
   "display_name": "Python 3",
   "language": "python",
   "name": "python3"
  },
  "language_info": {
   "codemirror_mode": {
    "name": "ipython",
    "version": 3
   },
   "file_extension": ".py",
   "mimetype": "text/x-python",
   "name": "python",
   "nbconvert_exporter": "python",
   "pygments_lexer": "ipython3",
   "version": "3.6.5"
  }
 },
 "nbformat": 4,
 "nbformat_minor": 2
}
