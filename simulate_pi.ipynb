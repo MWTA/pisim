{
 "cells": [
  {
   "cell_type": "markdown",
   "metadata": {},
   "source": [
    "# Estimate Pi interactively!\n",
    "\n",
    "Below you'll see a few widget windows, these run a simulation that estimates the value of \"Pi\" based on the number of random points that fall within vs. outside of a circle.\n",
    "\n",
    "Click on the \"Simulate\" button to run a single simulation. You can run multiple simulations at\n",
    "once by changing the $N_{simulations}$ slider.\n",
    "\n",
    "Try playing around with the number of total samples to see how the estimate stabilizes over time!"
   ]
  },
  {
   "cell_type": "code",
   "execution_count": 1,
   "metadata": {},
   "outputs": [],
   "source": [
    "from bqplot import pyplot as plt\n",
    "import numpy as np\n",
    "from IPython.display import display\n",
    "from ipywidgets.widgets import IntSlider, HBox, Button\n",
    "%matplotlib inline"
   ]
  },
  {
   "cell_type": "code",
   "execution_count": 2,
   "metadata": {},
   "outputs": [],
   "source": [
    "# New functions\n",
    "\n",
    "def circ(x, radius=2):\n",
    "    y = np.sqrt(np.clip(radius**2 - x**2, .0001, None))\n",
    "    return y\n",
    "\n",
    "\n",
    "def _simulate_many_pis(n_simulations, n_per_sample):\n",
    "    n_simulations = np.max([1, n_simulations])\n",
    "    ratios = []\n",
    "    for ratio in range(n_simulations):\n",
    "        sample, inside_dots, ratio, samples_y_curve = _simulate_pi(n_per_sample)\n",
    "        ratios.append(ratio)\n",
    "    return ratios, sample, inside_dots, samples_y_curve\n",
    "\n",
    "def _simulate_pi(n_samples):\n",
    "    sample = np.random.random((n_samples, 2)) * 2\n",
    "    inside_dots, ratio, samples_y_curve = calculate_ratio(sample)\n",
    "    return sample, inside_dots, ratio, samples_y_curve\n",
    "\n",
    "def calculate_ratio(sample):\n",
    "    # Calculate the y-value of the curve for each input sample's x value\n",
    "    samples_y_curve = circ(sample[:, 0])\n",
    "    inside_dots = samples_y_curve > sample[:, 1]\n",
    "    \n",
    "    # Calculate ratio of inside dots to outside dots for this quarter circle\n",
    "    ratio = 4 * (sum(inside_dots) / len(inside_dots))\n",
    "    return inside_dots, ratio, samples_y_curve\n",
    "\n",
    "def _update_plot(change=None):\n",
    "    n_simulations = simulationslider.value\n",
    "    n_per_sample = samplesslider.value\n",
    "    ratios, sample, inside_dots, samples_y_curve = _simulate_many_pis(n_simulations, n_per_sample)\n",
    "    ratio_data = [(ratio, n_per_sample) for ratio in ratios]\n",
    "    plot_data['ratios'] += ratio_data\n",
    "    \n",
    "    # Update the colored scatterplot\n",
    "    MAX_PLT = 500  # Otherwise it's way too slow\n",
    "    colors = np.where(inside_dots, '#41f465', \"#f44b42\").tolist()\n",
    "    scat.x = sample[:MAX_PLT, 0]\n",
    "    scat.y = sample[:MAX_PLT, 1]\n",
    "    \n",
    "    scat.colors = colors\n",
    "    fig_circle.title = 'Ratio of in-to-out dots: {}'.format(ratios[-1])\n",
    "    \n",
    "    # Update the scatterplot for ratios\n",
    "    scatter_y, scatter_x = np.array(plot_data['ratios']).T\n",
    "    ratio_scatter.x = scatter_x\n",
    "    ratio_scatter.y = scatter_y"
   ]
  },
  {
   "cell_type": "code",
   "execution_count": 3,
   "metadata": {},
   "outputs": [
    {
     "data": {
      "application/vnd.jupyter.widget-view+json": {
       "model_id": "e39d24303097410fb73be4dde7b4128c",
       "version_major": 2,
       "version_minor": 0
      },
      "text/plain": [
       "HBox(children=(Figure(axes=[Axis(scale=LinearScale(max=2.0, min=0.0)), Axis(orientation='vertical', scale=Line…"
      ]
     },
     "metadata": {},
     "output_type": "display_data"
    },
    {
     "data": {
      "application/vnd.jupyter.widget-view+json": {
       "model_id": "c2e739b0679e4221b266a0a279696cea",
       "version_major": 2,
       "version_minor": 0
      },
      "text/plain": [
       "HBox(children=(IntSlider(value=20, description='$N_{per\\\\_sample}$', max=1999, min=10), IntSlider(value=1, des…"
      ]
     },
     "metadata": {},
     "output_type": "display_data"
    }
   ],
   "source": [
    "# Set up figure\n",
    "plt.clear()\n",
    "plot_data = {'ratios': []}\n",
    "MAX_SAMPLES = 1000\n",
    "MAX_SIMULATIONS = 50\n",
    "width = '350px'\n",
    "\n",
    "# Draw the circle\n",
    "fig_circle = plt.figure()\n",
    "x = np.linspace(0, 5, 1000)\n",
    "y = circ(x)\n",
    "half_circle = plt.plot(x=x, y=y, s=[100] * len(y), colors=['black']*len(x))\n",
    "scat = plt.scatter([], [], options={'s': 1})\n",
    "plt.xlim(0, 2)\n",
    "fig_circle.layout.height = width\n",
    "fig_circle.layout.width = width\n",
    "\n",
    "# Figure with PI estimation\n",
    "fig_ratios = plt.figure()\n",
    "fig_ratios.layout.height = width\n",
    "fig_ratios.layout.width = width\n",
    "fig_ratios.title = \"Estimation of Pi\"\n",
    "\n",
    "pi_line_x = np.arange(0, MAX_SAMPLES, 100)\n",
    "line = plt.plot(pi_line_x, [np.pi]*len(pi_line_x), ls='--', colors=['black']*len(pi_line_x))\n",
    "ratio_scatter = plt.scatter([], [], default_size=10)\n",
    "plt.xlim(0, MAX_SAMPLES)\n",
    "plt.ylim(2, 4)\n",
    "\n",
    "# Slider to control number of samples\n",
    "samplesslider = IntSlider(value=20, min=10, max=MAX_SAMPLES-1, description=\"$N_{per\\_sample}$\")\n",
    "\n",
    "# Slider to control number of simulations to run\n",
    "simulationslider = IntSlider(value=1, min=1, max=MAX_SIMULATIONS-1, description=\"$N_{simulations}$\")\n",
    "\n",
    "# Button to run a simulation\n",
    "simulatebutton = Button(description=\"Simulate\")\n",
    "simulatebutton.on_click(_update_plot)\n",
    "\n",
    "# Initialize our UI\n",
    "box = HBox([fig_circle, fig_ratios])\n",
    "box2 = HBox([samplesslider, simulationslider, simulatebutton])\n",
    "display(box, box2)"
   ]
  }
 ],
 "metadata": {
  "kernelspec": {
   "display_name": "Python 3",
   "language": "python",
   "name": "python3"
  },
  "language_info": {
   "codemirror_mode": {
    "name": "ipython",
    "version": 3
   },
   "file_extension": ".py",
   "mimetype": "text/x-python",
   "name": "python",
   "nbconvert_exporter": "python",
   "pygments_lexer": "ipython3",
   "version": "3.6.5"
  }
 },
 "nbformat": 4,
 "nbformat_minor": 2
}
